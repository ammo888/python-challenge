{
 "cells": [
  {
   "cell_type": "code",
   "execution_count": 1,
   "metadata": {},
   "outputs": [],
   "source": [
    "from pathlib import Path\n",
    "import csv"
   ]
  },
  {
   "cell_type": "code",
   "execution_count": 2,
   "metadata": {},
   "outputs": [],
   "source": [
    "DATE_KEY = 'Date'\n",
    "PNL_KEY = 'Profit/Losses'\n",
    "DIFF_KEY = 'diff'\n",
    "\n",
    "def total_months(df):\n",
    "    return len(df)\n",
    "\n",
    "def net_profit(df):\n",
    "    return sum([float(row[PNL_KEY]) for row in df]) \n",
    "\n",
    "def diff(df):\n",
    "    return [float(df[i][PNL_KEY]) - float(df[i-1][PNL_KEY]) for i in range(1, len(df))]\n",
    "\n",
    "def average_profit_change(df):\n",
    "    diffs = diff(df)\n",
    "    return sum(diffs) / len(diffs)\n",
    "\n",
    "def max_profit_change(df):\n",
    "    diffs = diff(df)\n",
    "    max_index = 0\n",
    "    for diff_index in range(len(diffs)):\n",
    "        if diffs[diff_index] > diffs[max_index]:\n",
    "            max_index = diff_index\n",
    "\n",
    "    data_index = max_index + 1\n",
    "    return df[data_index][DATE_KEY], diffs[max_index]\n",
    "\n",
    "def min_profit_change(df):\n",
    "    diffs = diff(df)\n",
    "    min_index = 0\n",
    "    for diff_index in range(len(diffs)):\n",
    "        if diffs[diff_index] < diffs[min_index]:\n",
    "            min_index = diff_index\n",
    "\n",
    "    data_index = min_index + 1\n",
    "    return df[data_index][DATE_KEY], diffs[min_index]\n",
    "\n",
    "def financial_analysis(df):\n",
    "    max_month, max_profit_diff = max_profit_change(df)\n",
    "    min_month, min_profit_diff = min_profit_change(df)\n",
    "    return f\"\"\"Financial Analysis\n",
    "----------------------------\n",
    "Total Months: {total_months(df)}\n",
    "Total: ${net_profit(df):.2f}\n",
    "Average Change: ${average_profit_change(df):.2f}\n",
    "Greatest Increase in Profits: {max_month} (${max_profit_diff:.2f})\n",
    "Greatest Decrease in Profits: {min_month} (${min_profit_diff:.2f})\n",
    "\"\"\""
   ]
  },
  {
   "cell_type": "code",
   "execution_count": 3,
   "metadata": {},
   "outputs": [
    {
     "name": "stdout",
     "output_type": "stream",
     "text": [
      "Financial Analysis\n",
      "----------------------------\n",
      "Total Months: 86\n",
      "Total: $38382578.00\n",
      "Average Change: $-2315.12\n",
      "Greatest Increase in Profits: Feb-2012 ($1926159.00)\n",
      "Greatest Decrease in Profits: Sep-2013 ($-2196167.00)\n",
      "\n"
     ]
    }
   ],
   "source": [
    "dir_path = Path('.')\n",
    "data_path = dir_path / 'budget_data.csv'\n",
    "output_path = dir_path / 'budget_analysis.txt'\n",
    "\n",
    "with data_path.open() as f:\n",
    "    reader = csv.DictReader(f)\n",
    "    df = [row for row in reader]\n",
    "\n",
    "analysis = financial_analysis(df)\n",
    "print(analysis)\n",
    "\n",
    "with output_path.open('w') as f:\n",
    "    f.write(analysis)"
   ]
  }
 ],
 "metadata": {
  "kernelspec": {
   "display_name": "Python 3.7.13 ('fintech')",
   "language": "python",
   "name": "python3"
  },
  "language_info": {
   "codemirror_mode": {
    "name": "ipython",
    "version": 3
   },
   "file_extension": ".py",
   "mimetype": "text/x-python",
   "name": "python",
   "nbconvert_exporter": "python",
   "pygments_lexer": "ipython3",
   "version": "3.7.13"
  },
  "orig_nbformat": 4,
  "vscode": {
   "interpreter": {
    "hash": "d4cc6dab5bf112f9f9393591f9dccff4d17cc53388ff195bd1f5a55e6d40ad79"
   }
  }
 },
 "nbformat": 4,
 "nbformat_minor": 2
}
