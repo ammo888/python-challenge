{
 "cells": [
  {
   "cell_type": "code",
   "execution_count": 1,
   "metadata": {},
   "outputs": [],
   "source": [
    "from pathlib import Path\n",
    "import csv"
   ]
  },
  {
   "cell_type": "code",
   "execution_count": 2,
   "metadata": {},
   "outputs": [],
   "source": [
    "dir_path = Path('.')\n",
    "menu_data_path = dir_path / 'menu_data.csv'\n",
    "sales_data_path = dir_path / 'sales_data.csv'"
   ]
  },
  {
   "cell_type": "code",
   "execution_count": 3,
   "metadata": {},
   "outputs": [],
   "source": [
    "with menu_data_path.open() as f:\n",
    "    menu = [row for row in csv.DictReader(f)]\n",
    "with sales_data_path.open() as f:\n",
    "    sales = [row for row in csv.DictReader(f)]"
   ]
  },
  {
   "cell_type": "code",
   "execution_count": 4,
   "metadata": {},
   "outputs": [],
   "source": [
    "report = {}\n",
    "\n",
    "for sale_row in sales:\n",
    "    sales_item = sale_row['Menu_Item']\n",
    "    quantity = int(sale_row['Quantity'])\n",
    "\n",
    "    if sales_item not in report:\n",
    "        report[sales_item] = {}\n",
    "        report[sales_item]['01-count'] = 0\n",
    "        report[sales_item]['02-revenue'] = 0.0\n",
    "        report[sales_item]['03-cogs'] = 0.0\n",
    "        report[sales_item]['04-profit'] = 0.0\n",
    "\n",
    "    for menu_row in menu:\n",
    "        item = menu_row['item']\n",
    "        price = float(menu_row['price'])\n",
    "        cost = float(menu_row['cost'])\n",
    "        \n",
    "        if sales_item != item:\n",
    "            continue\n",
    "\n",
    "        profit = price - cost\n",
    "\n",
    "        report[sales_item][\"01-count\"] += quantity\n",
    "        report[sales_item][\"02-revenue\"] += price * quantity\n",
    "        report[sales_item][\"03-cogs\"] += cost * quantity\n",
    "        report[sales_item][\"04-profit\"] += profit * quantity\n",
    "    "
   ]
  },
  {
   "cell_type": "code",
   "execution_count": 5,
   "metadata": {},
   "outputs": [],
   "source": [
    "output_path = dir_path / 'ramen_analysis.txt'\n",
    "with output_path.open('w') as f:\n",
    "    for item, item_analysis in report.items():\n",
    "        f.write(f\"{item} {item_analysis}\\n\")"
   ]
  }
 ],
 "metadata": {
  "kernelspec": {
   "display_name": "Python [conda env:fintech] *",
   "language": "python",
   "name": "conda-env-fintech-py"
  },
  "language_info": {
   "codemirror_mode": {
    "name": "ipython",
    "version": 3
   },
   "file_extension": ".py",
   "mimetype": "text/x-python",
   "name": "python",
   "nbconvert_exporter": "python",
   "pygments_lexer": "ipython3",
   "version": "3.7.13"
  },
  "vscode": {
   "interpreter": {
    "hash": "d4cc6dab5bf112f9f9393591f9dccff4d17cc53388ff195bd1f5a55e6d40ad79"
   }
  }
 },
 "nbformat": 4,
 "nbformat_minor": 4
}
